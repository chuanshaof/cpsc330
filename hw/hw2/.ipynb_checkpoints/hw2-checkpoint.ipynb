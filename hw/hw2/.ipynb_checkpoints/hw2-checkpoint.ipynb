{
 "cells": [
  {
   "cell_type": "code",
   "execution_count": 1,
   "metadata": {
    "deletable": false,
    "editable": false
   },
   "outputs": [],
   "source": [
    "# Initialize Otter\n",
    "import otter\n",
    "grader = otter.Notebook(\"hw2.ipynb\")"
   ]
  },
  {
   "cell_type": "markdown",
   "metadata": {},
   "source": [
    "# CPSC 330 - Applied Machine Learning \n",
    "\n",
    "## Homework 2: Decision trees and machine learning fundamentals \n",
    "### Associated lectures: [Lectures 2 and 3](https://ubc-cs.github.io/cpsc330/README.html) \n",
    "\n",
    "**Due date: See the [Calendar](https://htmlpreview.github.io/?https://github.com/UBC-CS/cpsc330/blob/master/docs/calendar.html)**. "
   ]
  },
  {
   "cell_type": "markdown",
   "metadata": {},
   "source": [
    "Imports\n",
    "------"
   ]
  },
  {
   "cell_type": "code",
   "execution_count": 2,
   "metadata": {},
   "outputs": [],
   "source": [
    "from hashlib import sha1\n",
    "\n",
    "import matplotlib.pyplot as plt\n",
    "import numpy as np\n",
    "import pandas as pd\n",
    "\n",
    "plt.rcParams[\"font.size\"] = 16\n",
    "\n",
    "from sklearn.model_selection import cross_val_score, cross_validate, train_test_split\n",
    "from sklearn.tree import DecisionTreeClassifier"
   ]
  },
  {
   "cell_type": "markdown",
   "metadata": {},
   "source": [
    "<br><br>"
   ]
  },
  {
   "cell_type": "markdown",
   "metadata": {},
   "source": [
    "## Instructions\n",
    "rubric={points:3}\n",
    "\n",
    "Follow the [homework submission instructions](https://github.com/UBC-CS/cpsc330/blob/master/docs/homework_instructions.md). \n",
    "\n",
    "You are welcome to broadly discuss questions with your classmates but your final answers must be your own. **We are not allowing group submission for this homework assignment.**  \n",
    "\n",
    "**Important**: In this assignment we are using autograder so that you can get feedback on your solutions. For the autograder to work, you need to install `otter` in the course environment as follows. \n",
    "\n",
    "Go to the command line/terminal, activate the course conda environment, and install otter-grader.\n",
    "\n",
    "    ```\n",
    "    conda activate cpsc330\n",
    "    pip install otter-grader\n",
    "    ```\n",
    "\n",
    "The cell at the top of the notebook will throw an error if you do not install `otter-grader`. "
   ]
  },
  {
   "cell_type": "markdown",
   "metadata": {},
   "source": [
    "<br><br>"
   ]
  },
  {
   "cell_type": "markdown",
   "metadata": {},
   "source": [
    "## Introducing the data set\n",
    " \n",
    "For this lab you'll be using Kaggle's [Spotify Song Attributes](https://www.kaggle.com/geomack/spotifyclassification/home) dataset. The dataset contains a number of features of songs from 2017 and a binary variable `target` that represents whether the user liked the song (encoded as 1) or not (encoded as 0). See the documentation of all the features [here](https://developer.spotify.com/documentation/web-api/reference/tracks/get-audio-features/). \n",
    "\n",
    "This dataset is publicly available on Kaggle, and you will have to download it yourself. Follow the steps below to get the data CSV. \n",
    "\n",
    "1. If you do not have an account with [Kaggle](https://www.kaggle.com/), you will first need to create one (it's free).\n",
    "2. Login to your account and [download](https://www.kaggle.com/geomack/spotifyclassification/download) the dataset.\n",
    "3. Unzip the data file if needed, then rename it to `spotify.csv`, and move it under the `data` directory. "
   ]
  },
  {
   "cell_type": "markdown",
   "metadata": {},
   "source": [
    "<br><br>"
   ]
  },
  {
   "cell_type": "markdown",
   "metadata": {},
   "source": [
    "## Exercise 1: Exploratory data analysis"
   ]
  },
  {
   "cell_type": "markdown",
   "metadata": {
    "nbgrader": {
     "grade": false,
     "grade_id": "cell-d4d478b6cdc9bf88",
     "locked": true,
     "schema_version": 3,
     "solution": false
    }
   },
   "source": [
    "### 1.1 Loading the data\n",
    "rubric={autograde:2}\n",
    "\n",
    "**Your tasks:**\n",
    "\n",
    "Read in the data CSV and store it as a pandas dataframe named `spotify_df`. The first column (index=0) of the .csv file should be set as the index."
   ]
  },
  {
   "cell_type": "markdown",
   "metadata": {},
   "source": [
    "<div class=\"alert alert-warning\">\n",
    "\n",
    "Solution_1.1\n",
    "    \n",
    "</div>"
   ]
  },
  {
   "cell_type": "code",
   "execution_count": 3,
   "metadata": {
    "nbgrader": {
     "grade": true,
     "grade_id": "cell-4f3f14b59fd7e6b8",
     "locked": false,
     "points": 0,
     "schema_version": 3,
     "solution": true,
     "task": false
    },
    "tags": []
   },
   "outputs": [],
   "source": [
    "spotify_df = pd.read_csv(\"data/spotify.csv\", index_col=0)"
   ]
  },
  {
   "cell_type": "code",
   "execution_count": 4,
   "metadata": {
    "deletable": false,
    "editable": false
   },
   "outputs": [
    {
     "data": {
      "text/html": [
       "<p><strong><pre style='display: inline;'>q1.1</pre></strong> passed!</p>"
      ],
      "text/plain": [
       "q1.1 results: All test cases passed!"
      ]
     },
     "execution_count": 4,
     "metadata": {},
     "output_type": "execute_result"
    }
   ],
   "source": [
    "grader.check(\"q1.1\")"
   ]
  },
  {
   "cell_type": "markdown",
   "metadata": {},
   "source": [
    "<br><br>"
   ]
  },
  {
   "cell_type": "markdown",
   "metadata": {},
   "source": [
    "### 1.2 Number of training and test examples\n",
    "rubric={autograde:2}\n",
    "\n",
    "**Your tasks:**\n",
    "\n",
    "Run the following line of code to split the data. How many training and test examples do we have? Store them in variables `n_train_samples` and `n_test_samples` below.  \n",
    "\n",
    "> Note: we are setting the `random_state` so that everyone has the same split, which is required by the autograder. "
   ]
  },
  {
   "cell_type": "code",
   "execution_count": 5,
   "metadata": {},
   "outputs": [],
   "source": [
    "train_df, test_df = train_test_split(spotify_df, test_size=0.2, random_state=321)"
   ]
  },
  {
   "cell_type": "markdown",
   "metadata": {},
   "source": [
    "<div class=\"alert alert-warning\">\n",
    "\n",
    "Solution_1.2\n",
    "    \n",
    "</div>"
   ]
  },
  {
   "cell_type": "code",
   "execution_count": 6,
   "metadata": {
    "tags": []
   },
   "outputs": [
    {
     "data": {
      "text/plain": [
       "Ellipsis"
      ]
     },
     "execution_count": 6,
     "metadata": {},
     "output_type": "execute_result"
    }
   ],
   "source": [
    "# Please provide numeric values\n",
    "n_train_samples = train_df.shape[0]\n",
    "n_test_samples = test_df.shape[0]\n",
    "\n",
    "..."
   ]
  },
  {
   "cell_type": "code",
   "execution_count": 7,
   "metadata": {
    "tags": []
   },
   "outputs": [
    {
     "name": "stdout",
     "output_type": "stream",
     "text": [
      "      acousticness  danceability  duration_ms  energy  instrumentalness  key  \\\n",
      "260       0.018100         0.932       192773   0.819          0.000007    8   \n",
      "1286      0.083900         0.459       256933   0.561          0.000000    7   \n",
      "1344      0.001920         0.482       198947   0.968          0.000454    6   \n",
      "1197      0.039000         0.673       229507   0.758          0.000000    7   \n",
      "119       0.024400         0.746       222093   0.873          0.000000    7   \n",
      "...            ...           ...          ...     ...               ...  ...   \n",
      "1833      0.003880         0.492       186867   0.797          0.000000   11   \n",
      "799       0.062500         0.758       252333   0.629          0.000144    7   \n",
      "124       0.674000         0.462       226333   0.449          0.000632    0   \n",
      "538       0.000183         0.596       178800   0.628          0.007670    5   \n",
      "1012      0.134000         0.603       246685   0.640          0.000000    1   \n",
      "\n",
      "      liveness  loudness  mode  speechiness    tempo  time_signature  valence  \\\n",
      "260     0.0577    -3.484     0       0.2030  119.941             4.0    0.552   \n",
      "1286    0.0998    -7.091     1       0.0271  144.784             4.0    0.298   \n",
      "1344    0.1080    -4.395     1       0.1490  114.001             4.0    0.245   \n",
      "1197    0.3410    -3.632     1       0.1580  135.956             4.0    0.541   \n",
      "119     0.3540    -3.803     1       0.1280  148.075             4.0    0.808   \n",
      "...        ...       ...   ...          ...      ...             ...      ...   \n",
      "1833    0.4660    -4.666     1       0.0388   79.513             4.0    0.533   \n",
      "799     0.1090    -8.283     0       0.1060  112.575             3.0    0.260   \n",
      "124     0.0993    -9.271     0       0.0916  209.686             4.0    0.748   \n",
      "538     0.1870    -7.582     0       0.0503  139.965             4.0    0.520   \n",
      "1012    0.4340    -5.215     1       0.2910  125.462             4.0    0.311   \n",
      "\n",
      "      target                                       song_title           artist  \n",
      "260        1  WTF (Where They From) [feat. Pharrell Williams]    Missy Elliott  \n",
      "1286       0  10,000 Reasons (Bless the Lord) [Radio Version]      Matt Redman  \n",
      "1344       0                                   American Dream     Chelsea Grin  \n",
      "1197       0                                 Feel This Moment          Pitbull  \n",
      "119        1                                       Trap Queen        Fetty Wap  \n",
      "...      ...                                              ...              ...  \n",
      "1833       0                                         Ultimate    Lindsay Lohan  \n",
      "799        1                                 18 With A Bullet   Pete Wingfield  \n",
      "124        1                                 Danger and Dread       Brown Bird  \n",
      "538        1                                       Pale Flesh  Crystal Castles  \n",
      "1012       1                Bad Boys (feat. Ghetts and J Hus)          Stormzy  \n",
      "\n",
      "[1613 rows x 16 columns]\n",
      "      acousticness  danceability  duration_ms  energy  instrumentalness  key  \\\n",
      "1489      0.570000         0.629       250173   0.572          0.000000    5   \n",
      "1160      0.004110         0.624       207520   0.806          0.000000    1   \n",
      "1407      0.947000         0.483       248176   0.199          0.000000    2   \n",
      "579       0.151000         0.633       321627   0.850          0.000000    5   \n",
      "1021      0.067700         0.587       180252   0.628          0.000002    1   \n",
      "...            ...           ...          ...     ...               ...  ...   \n",
      "204       0.000467         0.817       213059   0.588          0.000002    7   \n",
      "1915      0.161000         0.667       213000   0.728          0.000000    6   \n",
      "824       0.391000         0.702       311892   0.495          0.800000    0   \n",
      "28        0.051600         0.782       228562   0.572          0.000000    4   \n",
      "770       0.023500         0.761       387774   0.478          0.009720    4   \n",
      "\n",
      "      liveness  loudness  mode  speechiness    tempo  time_signature  valence  \\\n",
      "1489    0.1920    -7.733     0       0.0387  100.015             4.0    0.380   \n",
      "1160    0.0872    -5.957     1       0.0437  149.999             4.0    0.536   \n",
      "1407    0.1090   -11.370     1       0.0586   78.103             4.0    0.162   \n",
      "579     0.0556    -5.915     0       0.3440   97.933             4.0    0.761   \n",
      "1021    0.1220    -5.703     1       0.0431   92.003             4.0    0.650   \n",
      "...        ...       ...   ...          ...      ...             ...      ...   \n",
      "204     0.0911    -6.603     1       0.0399  119.934             4.0    0.448   \n",
      "1915    0.1990    -5.476     0       0.0272   99.014             4.0    0.449   \n",
      "824     0.1120   -11.645     0       0.0493   78.507             4.0    0.292   \n",
      "28      0.3300    -7.467     0       0.0385  120.021             4.0    0.237   \n",
      "770     0.0458    -7.437     0       0.0545  118.925             4.0    0.948   \n",
      "\n",
      "      target            song_title            artist  \n",
      "1489       0        1-800-273-8255             Logic  \n",
      "1160       0  Break Up Every Night  The Chainsmokers  \n",
      "1407       0      Waves - Acoustic        Dean Lewis  \n",
      "579        1                 HLM 3           Lunatic  \n",
      "1021       0          Losing Sleep       Chris Young  \n",
      "...      ...                   ...               ...  \n",
      "204        1     Le Goudron (Edit)             YACHT  \n",
      "1915       0    I Want It That Way   Backstreet Boys  \n",
      "824        1      Motherless Child            Romare  \n",
      "28         1            Look Alive      Rae Sremmurd  \n",
      "770        1           Synchronize        Discodeine  \n",
      "\n",
      "[404 rows x 16 columns]\n"
     ]
    },
    {
     "data": {
      "text/plain": [
       "Ellipsis"
      ]
     },
     "execution_count": 7,
     "metadata": {},
     "output_type": "execute_result"
    }
   ],
   "source": [
    "print(train_df)\n",
    "print(test_df)\n",
    "\n",
    "..."
   ]
  },
  {
   "cell_type": "code",
   "execution_count": 8,
   "metadata": {
    "tags": []
   },
   "outputs": [
    {
     "data": {
      "text/plain": [
       "Ellipsis"
      ]
     },
     "execution_count": 8,
     "metadata": {},
     "output_type": "execute_result"
    }
   ],
   "source": [
    "..."
   ]
  },
  {
   "cell_type": "code",
   "execution_count": 9,
   "metadata": {
    "deletable": false,
    "editable": false
   },
   "outputs": [
    {
     "data": {
      "text/html": [
       "<p><strong><pre style='display: inline;'>q1.2</pre></strong> passed!</p>"
      ],
      "text/plain": [
       "q1.2 results: All test cases passed!"
      ]
     },
     "execution_count": 9,
     "metadata": {},
     "output_type": "execute_result"
    }
   ],
   "source": [
    "grader.check(\"q1.2\")"
   ]
  },
  {
   "cell_type": "markdown",
   "metadata": {},
   "source": [
    "<br><br>"
   ]
  },
  {
   "cell_type": "markdown",
   "metadata": {},
   "source": [
    "### 1.3 Preliminary EDA\n",
    "rubric={autograde:3}\n",
    "\n",
    "**Your tasks:**\n",
    "\n",
    "1. Store the output of `describe()` **on the training split** in the variable `spotify_summary` below and print it out. \n",
    "2. Store the feature with the smallest range as a string in `smallest_range_features` variable below.\n",
    "\n",
    "> Hint: You can subtract the min value from the max value of the column to get the range.\n",
    "\n",
    "> Note that `describe` returns another DataFrame.\n"
   ]
  },
  {
   "cell_type": "markdown",
   "metadata": {},
   "source": [
    "<div class=\"alert alert-warning\">\n",
    "\n",
    "Solution_1.3\n",
    "    \n",
    "</div>"
   ]
  },
  {
   "cell_type": "code",
   "execution_count": 10,
   "metadata": {
    "tags": []
   },
   "outputs": [
    {
     "name": "stdout",
     "output_type": "stream",
     "text": [
      "       acousticness  danceability   duration_ms       energy  \\\n",
      "count   1613.000000   1613.000000  1.613000e+03  1613.000000   \n",
      "mean       0.185067      0.620076  2.462533e+05     0.681315   \n",
      "std        0.255838      0.161152  8.056740e+04     0.206964   \n",
      "min        0.000003      0.148000  1.604200e+04     0.015600   \n",
      "25%        0.010000      0.514000  1.999040e+05     0.564000   \n",
      "50%        0.062600      0.634000  2.298590e+05     0.712000   \n",
      "75%        0.260000      0.739000  2.703330e+05     0.841000   \n",
      "max        0.994000      0.984000  1.004627e+06     0.997000   \n",
      "\n",
      "       instrumentalness          key     liveness     loudness         mode  \\\n",
      "count       1613.000000  1613.000000  1613.000000  1613.000000  1613.000000   \n",
      "mean           0.134317     5.384377     0.191317    -7.095272     0.619343   \n",
      "std            0.274217     3.653722     0.156071     3.678993     0.485699   \n",
      "min            0.000000     0.000000     0.018800   -31.082000     0.000000   \n",
      "25%            0.000000     2.000000     0.092200    -8.388000     0.000000   \n",
      "50%            0.000088     6.000000     0.125000    -6.298000     1.000000   \n",
      "75%            0.055900     9.000000     0.250000    -4.833000     1.000000   \n",
      "max            0.976000    11.000000     0.969000    -0.718000     1.000000   \n",
      "\n",
      "       speechiness        tempo  time_signature      valence       target  \n",
      "count  1613.000000  1613.000000     1613.000000  1613.000000  1613.000000  \n",
      "mean      0.092119   121.310311        3.975201     0.495891     0.512089  \n",
      "std       0.088007    26.431574        0.247829     0.244267     0.500009  \n",
      "min       0.023100    47.859000        1.000000     0.037300     0.000000  \n",
      "25%       0.037500   100.221000        4.000000     0.298000     0.000000  \n",
      "50%       0.055300   121.241000        4.000000     0.492000     1.000000  \n",
      "75%       0.107000   136.894000        4.000000     0.689000     1.000000  \n",
      "max       0.622000   219.331000        5.000000     0.974000     1.000000  \n"
     ]
    },
    {
     "data": {
      "text/plain": [
       "Ellipsis"
      ]
     },
     "execution_count": 10,
     "metadata": {},
     "output_type": "execute_result"
    }
   ],
   "source": [
    "spotify_summary = train_df.describe()\n",
    "\n",
    "print(spotify_summary)\n",
    "\n",
    "..."
   ]
  },
  {
   "cell_type": "code",
   "execution_count": 11,
   "metadata": {
    "tags": []
   },
   "outputs": [
    {
     "name": "stdout",
     "output_type": "stream",
     "text": [
      "speechiness\n"
     ]
    },
    {
     "data": {
      "text/plain": [
       "Ellipsis"
      ]
     },
     "execution_count": 11,
     "metadata": {},
     "output_type": "execute_result"
    }
   ],
   "source": [
    "import sys\n",
    "\n",
    "smallest_range_feature = None\n",
    "smallest_range = sys.maxsize\n",
    "\n",
    "for column in spotify_summary.columns:\n",
    "    col_range = spotify_summary[column][\"max\"] - spotify_summary[column][\"min\"]\n",
    "    if col_range < smallest_range:\n",
    "        smallest_range_feature = column\n",
    "        smallest_range = col_range\n",
    "        \n",
    "print(smallest_range_feature)\n",
    "\n",
    "..."
   ]
  },
  {
   "cell_type": "code",
   "execution_count": 12,
   "metadata": {
    "deletable": false,
    "editable": false
   },
   "outputs": [
    {
     "data": {
      "text/html": [
       "<p><strong><pre style='display: inline;'>q1.3</pre></strong> passed!</p>"
      ],
      "text/plain": [
       "q1.3 results: All test cases passed!"
      ]
     },
     "execution_count": 12,
     "metadata": {},
     "output_type": "execute_result"
    }
   ],
   "source": [
    "grader.check(\"q1.3\")"
   ]
  },
  {
   "cell_type": "markdown",
   "metadata": {},
   "source": [
    "<br><br>"
   ]
  },
  {
   "cell_type": "markdown",
   "metadata": {
    "nbgrader": {
     "grade": false,
     "grade_id": "cell-b33320bcf667584a",
     "locked": true,
     "schema_version": 3,
     "solution": false
    }
   },
   "source": [
    "<!-- BEGIN QUESTION -->\n",
    "\n",
    "### 1.4 Plotting histograms \n",
    "rubric={points:5}\n",
    "\n",
    "The starter code below produces histograms for the `loudness` feature which shows the distribution of the feature values in the training set, separated for positive (target=1, i.e., user liked the song) and negative (target=0, i.e., user disliked the song) examples. There are two different histograms, one for target = 0 and one for target = 1, and they are overlaid on top of each other. The histogram shows that extremely quiet songs tend to be disliked (more blue bars than orange on the left) and very loud songs also tend to be disliked (more blue than orange on the far right).\n",
    "\n",
    "> Note: I am using pandas plotting here. You can also use matplotlib if you wish. "
   ]
  },
  {
   "cell_type": "code",
   "execution_count": 13,
   "metadata": {},
   "outputs": [
    {
     "data": {
      "image/png": "[encoded data removed]",
      "text/plain": [
       "<Figure size 640x480 with 1 Axes>"
      ]
     },
     "metadata": {},
     "output_type": "display_data"
    }
   ],
   "source": [
    "feat = \"loudness\"\n",
    "ax = train_df.groupby(\"target\")[feat].plot.hist(bins=50, alpha=0.5, legend=True)\n",
    "plt.xlabel(feat)\n",
    "plt.title(\"Histogram of \" + feat)\n",
    "plt.show()"
   ]
  },
  {
   "cell_type": "markdown",
   "metadata": {},
   "source": [
    "**Your tasks:**\n",
    "\n",
    "Create histograms for the following features in the order below.\n",
    "- acousticness\n",
    "- danceability\n",
    "- tempo\n",
    "- energy\n",
    "- valence\n",
    "\n",
    "> To adhere to the [DRY (Don't Repeat Yourself)](https://en.wikipedia.org/wiki/Don%27t_repeat_yourself) principle, make sure you use a `for` loop for your plotting, rather than repeating the plotting code 4 times. For this to work, I used `plt.show()` at the end of your loop, which draws the figure and resets the canvas for your next plot."
   ]
  },
  {
   "cell_type": "markdown",
   "metadata": {},
   "source": [
    "<div class=\"alert alert-warning\">\n",
    "\n",
    "Solution_1.4\n",
    "    \n",
    "</div>"
   ]
  },
  {
   "cell_type": "code",
   "execution_count": 14,
   "metadata": {
    "nbgrader": {
     "grade": true,
     "grade_id": "cell-96fe8a8084b1ca46",
     "locked": false,
     "points": 0,
     "schema_version": 3,
     "solution": true,
     "task": false
    },
    "tags": []
   },
   "outputs": [
    {
     "data": {
      "image/png": "[encoded data removed]",
      "text/plain": [
       "<Figure size 640x480 with 1 Axes>"
      ]
     },
     "metadata": {},
     "output_type": "display_data"
    },
    {
     "data": {
      "image/png": "[encoded data removed]",
      "text/plain": [
       "<Figure size 640x480 with 1 Axes>"
      ]
     },
     "metadata": {},
     "output_type": "display_data"
    },
    {
     "data": {
      "image/png": "[encoded data removed]",
      "text/plain": [
       "<Figure size 640x480 with 1 Axes>"
      ]
     },
     "metadata": {},
     "output_type": "display_data"
    },
    {
     "data": {
      "image/png": "[encoded data removed]",
      "text/plain": [
       "<Figure size 640x480 with 1 Axes>"
      ]
     },
     "metadata": {},
     "output_type": "display_data"
    },
    {
     "data": {
      "image/png": "[encoded data removed]",
      "text/plain": [
       "<Figure size 640x480 with 1 Axes>"
      ]
     },
     "metadata": {},
     "output_type": "display_data"
    },
    {
     "data": {
      "text/plain": [
       "Ellipsis"
      ]
     },
     "execution_count": 14,
     "metadata": {},
     "output_type": "execute_result"
    }
   ],
   "source": [
    "columns = [\"acousticness\", \"danceability\", \"tempo\", \"energy\", \"valence\"]\n",
    "\n",
    "for column in columns:\n",
    "    ax = train_df.groupby(\"target\")[column].plot.hist(legend=True)\n",
    "    plt.xlabel(column)\n",
    "    plt.title(\"Histogram of \" + column)\n",
    "    plt.show()\n",
    "    pass\n",
    "\n",
    "\n",
    "..."
   ]
  },
  {
   "cell_type": "markdown",
   "metadata": {},
   "source": [
    "<!-- END QUESTION -->\n",
    "\n",
    "<br><br>"
   ]
  },
  {
   "cell_type": "markdown",
   "metadata": {},
   "source": [
    "<!-- BEGIN QUESTION -->\n",
    "\n",
    "### 1.5 Identical histograms\n",
    "rubric={points:3}\n",
    "\n",
    "**Your tasks:**\n",
    "\n",
    "Let's say that, for a particular feature, the histograms of that feature are identical for the two target classes. Does that mean the feature is not useful for predicting the target class?"
   ]
  },
  {
   "cell_type": "markdown",
   "metadata": {},
   "source": [
    "<div class=\"alert alert-warning\">\n",
    "\n",
    "Solution_1.5\n",
    "    \n",
    "</div>"
   ]
  },
  {
   "cell_type": "markdown",
   "metadata": {},
   "source": [
    "_No, it may not be useless as there may be a combination of features that causes the same outcome. More analysis is required to determine if the feature is not impactful._"
   ]
  },
  {
   "cell_type": "markdown",
   "metadata": {},
   "source": [
    "<!-- END QUESTION -->\n",
    "\n",
    "<br><br>"
   ]
  },
  {
   "cell_type": "markdown",
   "metadata": {
    "nbgrader": {
     "grade": false,
     "grade_id": "cell-86f9e0c649669daf",
     "locked": true,
     "schema_version": 3,
     "solution": false,
     "task": false
    }
   },
   "source": [
    "<!-- BEGIN QUESTION -->\n",
    "\n",
    "### 1.6 Which columns to include? \n",
    "rubric={reasoning:4}\n",
    "\n",
    "**Your tasks:**\n",
    "\n",
    "Note that the dataset includes two free text features labeled `song_title` and `artist`. Do you think these features could be useful in predicting whether the user liked the song or not? Would there be any difficulty in using them in your model?   "
   ]
  },
  {
   "cell_type": "markdown",
   "metadata": {},
   "source": [
    "<div class=\"alert alert-warning\">\n",
    "\n",
    "Solution_1.6\n",
    "    \n",
    "</div>"
   ]
  },
  {
   "cell_type": "markdown",
   "metadata": {},
   "source": [
    "_The artist may be useful as the user may like a particular artist and have a bias towards it. However, the song title might not be useful as the variety of song titles is rather wide._\n",
    "\n",
    "_Using the artist may be complicated, but still easy as they could be classified easily into discrete values. However, song title would be hard as there are unlimited variations of it._"
   ]
  },
  {
   "cell_type": "markdown",
   "metadata": {},
   "source": [
    "<!-- END QUESTION -->\n",
    "\n",
    "<br><br>"
   ]
  },
  {
   "cell_type": "markdown",
   "metadata": {
    "nbgrader": {
     "grade": false,
     "grade_id": "cell-1440876fbc49ead5",
     "locked": true,
     "schema_version": 3,
     "solution": false,
     "task": false
    }
   },
   "source": [
    "## Exercise 2: Using sklearn to build a decision tree classifier"
   ]
  },
  {
   "cell_type": "markdown",
   "metadata": {},
   "source": [
    "<hr>\n",
    "Recall that in machine learning what we care about is generalization; we want to build models that generalize well on unseen examples. One way to approximate generalization error is by splitting the data into train and test splits, building and tuning the model only using the train split, and carrying out the final assessment on the test split. "
   ]
  },
  {
   "cell_type": "markdown",
   "metadata": {},
   "source": [
    "<br><br>"
   ]
  },
  {
   "cell_type": "markdown",
   "metadata": {
    "nbgrader": {
     "grade": false,
     "grade_id": "cell-706403e72adade4b",
     "locked": true,
     "schema_version": 3,
     "solution": false
    }
   },
   "source": [
    "### 2.1 Creating `X` and `y`\n",
    "rubric={autograde:2}\n",
    "\n",
    "**Your tasks:**\n",
    "\n",
    "1. Separate `X` and `y` from `train_df` and `test_df` and store them as `X_train`, `y_train`, `X_test`, `y_test`, respectively. Skip the `song_title` and `artist` columns for now. "
   ]
  },
  {
   "cell_type": "markdown",
   "metadata": {},
   "source": [
    "<div class=\"alert alert-warning\">\n",
    "\n",
    "Solution_2.1\n",
    "    \n",
    "</div>"
   ]
  },
  {
   "cell_type": "code",
   "execution_count": 15,
   "metadata": {
    "tags": []
   },
   "outputs": [
    {
     "data": {
      "text/plain": [
       "Ellipsis"
      ]
     },
     "execution_count": 15,
     "metadata": {},
     "output_type": "execute_result"
    }
   ],
   "source": [
    "X_train = train_df.drop(columns=[\"target\", \"song_title\", \"artist\"])\n",
    "y_train = train_df[\"target\"]\n",
    "X_test = test_df.drop(columns=[\"target\", \"song_title\", \"artist\"])\n",
    "y_test = test_df[\"target\"]\n",
    "\n",
    "..."
   ]
  },
  {
   "cell_type": "code",
   "execution_count": 16,
   "metadata": {
    "deletable": false,
    "editable": false
   },
   "outputs": [
    {
     "data": {
      "text/html": [
       "<p><strong><pre style='display: inline;'>q2.1</pre></strong> passed!</p>"
      ],
      "text/plain": [
       "q2.1 results: All test cases passed!"
      ]
     },
     "execution_count": 16,
     "metadata": {},
     "output_type": "execute_result"
    }
   ],
   "source": [
    "grader.check(\"q2.1\")"
   ]
  },
  {
   "cell_type": "markdown",
   "metadata": {},
   "source": [
    "<br><br>"
   ]
  },
  {
   "cell_type": "markdown",
   "metadata": {
    "nbgrader": {
     "grade": false,
     "grade_id": "cell-706403e72adade4b",
     "locked": true,
     "schema_version": 3,
     "solution": false
    }
   },
   "source": [
    "### 2.2\n",
    "rubric={autograde:2}\n",
    "\n",
    "**Your tasks:**\n",
    "\n",
    "1. Create a `DecisionTreeClassifier` with `random_state=123` and store it in a variable called `spotify_tree`.\n",
    "2. Fit the the decision tree classifier. "
   ]
  },
  {
   "cell_type": "markdown",
   "metadata": {},
   "source": [
    "<div class=\"alert alert-warning\">\n",
    "\n",
    "Solution_2.2\n",
    "    \n",
    "</div>"
   ]
  },
  {
   "cell_type": "code",
   "execution_count": 17,
   "metadata": {
    "tags": []
   },
   "outputs": [
    {
     "data": {
      "text/plain": [
       "Ellipsis"
      ]
     },
     "execution_count": 17,
     "metadata": {},
     "output_type": "execute_result"
    }
   ],
   "source": [
    "spotify_tree = DecisionTreeClassifier(random_state=123)\n",
    "spotify_tree.fit(X_train, y_train)\n",
    "\n",
    "..."
   ]
  },
  {
   "cell_type": "code",
   "execution_count": 18,
   "metadata": {
    "deletable": false,
    "editable": false
   },
   "outputs": [
    {
     "data": {
      "text/html": [
       "<p><strong><pre style='display: inline;'>q2.2</pre></strong> passed!</p>"
      ],
      "text/plain": [
       "q2.2 results: All test cases passed!"
      ]
     },
     "execution_count": 18,
     "metadata": {},
     "output_type": "execute_result"
    }
   ],
   "source": [
    "grader.check(\"q2.2\")"
   ]
  },
  {
   "cell_type": "markdown",
   "metadata": {},
   "source": [
    "<br><br>"
   ]
  },
  {
   "cell_type": "markdown",
   "metadata": {
    "nbgrader": {
     "grade": false,
     "grade_id": "cell-43ac6f91bc3bd9da",
     "locked": true,
     "schema_version": 3,
     "solution": false
    }
   },
   "source": [
    "### 2.3 \n",
    "rubric={autograde:2}\n",
    "\n",
    "**Your tasks:**\n",
    "\n",
    "1. Use the `predict` method to predict the class of the first example in your `X_train` and store the prediction in a variable called `pred` and compare it with the \"true\" class from `y_train`.   \n",
    "\n",
    "> Hint: you can grab the first example with `X_train.iloc[[0]]`."
   ]
  },
  {
   "cell_type": "markdown",
   "metadata": {},
   "source": [
    "<div class=\"alert alert-warning\">\n",
    "\n",
    "Solution_2.3\n",
    "    \n",
    "</div>"
   ]
  },
  {
   "cell_type": "code",
   "execution_count": 19,
   "metadata": {
    "tags": []
   },
   "outputs": [
    {
     "data": {
      "text/plain": [
       "Ellipsis"
      ]
     },
     "execution_count": 19,
     "metadata": {},
     "output_type": "execute_result"
    }
   ],
   "source": [
    "pred = spotify_tree.predict(X_train.iloc[[0]])\n",
    "\n",
    "# The bottom line isn't necessary not sure why\n",
    "# spotify_tree.score(X_train.iloc[[0]], y_train.iloc[[0]])\n",
    "\n",
    "..."
   ]
  },
  {
   "cell_type": "code",
   "execution_count": 20,
   "metadata": {
    "deletable": false,
    "editable": false
   },
   "outputs": [
    {
     "data": {
      "text/html": [
       "<p><strong><pre style='display: inline;'>q2.3</pre></strong> passed!</p>"
      ],
      "text/plain": [
       "q2.3 results: All test cases passed!"
      ]
     },
     "execution_count": 20,
     "metadata": {},
     "output_type": "execute_result"
    }
   ],
   "source": [
    "grader.check(\"q2.3\")"
   ]
  },
  {
   "cell_type": "markdown",
   "metadata": {},
   "source": [
    "<br><br>"
   ]
  },
  {
   "cell_type": "markdown",
   "metadata": {},
   "source": [
    "### 2.4\n",
    "rubric={autograde:2}\n",
    "\n",
    "**Your tasks:**\n",
    "\n",
    "1. Use the `cross_val_score` function on your training set to compute the 10-fold cross-validation accuracy of your tree. Store the mean cross-validation accuracy in a variable called `mean_cv_score`.  \n"
   ]
  },
  {
   "cell_type": "markdown",
   "metadata": {},
   "source": [
    "<div class=\"alert alert-warning\">\n",
    "\n",
    "Solution_2.4\n",
    "    \n",
    "</div>"
   ]
  },
  {
   "cell_type": "code",
   "execution_count": 21,
   "metadata": {
    "tags": []
   },
   "outputs": [
    {
     "data": {
      "text/plain": [
       "Ellipsis"
      ]
     },
     "execution_count": 21,
     "metadata": {},
     "output_type": "execute_result"
    }
   ],
   "source": [
    "mean_cv_score = cross_val_score(spotify_tree, X_train, y_train, cv=10).mean()\n",
    "\n",
    "..."
   ]
  },
  {
   "cell_type": "code",
   "execution_count": 22,
   "metadata": {
    "deletable": false,
    "editable": false
   },
   "outputs": [
    {
     "data": {
      "text/html": [
       "<p><strong><pre style='display: inline;'>q2.4</pre></strong> passed!</p>"
      ],
      "text/plain": [
       "q2.4 results: All test cases passed!"
      ]
     },
     "execution_count": 22,
     "metadata": {},
     "output_type": "execute_result"
    }
   ],
   "source": [
    "grader.check(\"q2.4\")"
   ]
  },
  {
   "cell_type": "markdown",
   "metadata": {},
   "source": [
    "<br><br>"
   ]
  },
  {
   "cell_type": "markdown",
   "metadata": {},
   "source": [
    "### 2.5\n",
    "rubric={autograde:3}\n",
    "\n",
    "The above is useful, but we would like to see the training accuracy as well. \n",
    "\n",
    "**Your tasks:**\n",
    "\n",
    "1. Compute the 10-fold cross-validation again but this time using the `cross_validate` function with `return_train_score=True` and save the results in a variable called `scores_df` as a pandas dataframe.  "
   ]
  },
  {
   "cell_type": "markdown",
   "metadata": {},
   "source": [
    "<div class=\"alert alert-warning\">\n",
    "\n",
    "Solution_2.5\n",
    "    \n",
    "</div>"
   ]
  },
  {
   "cell_type": "code",
   "execution_count": 23,
   "metadata": {
    "tags": []
   },
   "outputs": [
    {
     "data": {
      "text/plain": [
       "Ellipsis"
      ]
     },
     "execution_count": 23,
     "metadata": {},
     "output_type": "execute_result"
    }
   ],
   "source": [
    "scores_df = cross_validate(spotify_tree, X_train, y_train, cv=10, return_train_score=True)\n",
    "scores_df = pd.DataFrame(scores_df)\n",
    "\n",
    "..."
   ]
  },
  {
   "cell_type": "code",
   "execution_count": 24,
   "metadata": {
    "deletable": false,
    "editable": false
   },
   "outputs": [
    {
     "data": {
      "text/html": [
       "<p><strong><pre style='display: inline;'>q2.5</pre></strong> passed!</p>"
      ],
      "text/plain": [
       "q2.5 results: All test cases passed!"
      ]
     },
     "execution_count": 24,
     "metadata": {},
     "output_type": "execute_result"
    }
   ],
   "source": [
    "grader.check(\"q2.5\")"
   ]
  },
  {
   "cell_type": "markdown",
   "metadata": {},
   "source": [
    "<br><br>"
   ]
  },
  {
   "cell_type": "markdown",
   "metadata": {},
   "source": [
    "<!-- BEGIN QUESTION -->\n",
    "\n",
    "### 2.6\n",
    "rubric={points:2}\n",
    "\n",
    "**Your tasks:**\n",
    "1. Inspect the 10 sub-scores from the 10 folds of cross-validation. How does this inform the trustworthiness of your mean cross-validation score?\n",
    "2. Do you see a significant difference between the training scores and the cross-validation scores? Briefly discuss in 1 to 2 sentences."
   ]
  },
  {
   "cell_type": "markdown",
   "metadata": {},
   "source": [
    "<div class=\"alert alert-warning\">\n",
    "\n",
    "Solution_2.6\n",
    "    \n",
    "</div>"
   ]
  },
  {
   "cell_type": "markdown",
   "metadata": {},
   "source": [
    "_The validtion scores are quite different compared to the training scores. This would indicate that there may be overfitting involved such that the training score is high and not able to be generalized to the validation/test/deployment datasets._\n",
    "\n",
    "_This would suggest that the depth may be too many and it would be ideal to decrease it such that the model can be generalized._"
   ]
  },
  {
   "cell_type": "code",
   "execution_count": 25,
   "metadata": {
    "tags": []
   },
   "outputs": [
    {
     "name": "stdout",
     "output_type": "stream",
     "text": [
      "   fit_time  score_time  test_score  train_score\n",
      "0  0.011893    0.000946    0.685185     0.999311\n",
      "1  0.012220    0.002001    0.635802     0.998622\n",
      "2  0.010572    0.001064    0.641975     0.999311\n",
      "3  0.011730    0.001345    0.708075     0.998623\n",
      "4  0.011632    0.001006    0.726708     0.998623\n",
      "5  0.011259    0.002006    0.608696     0.998623\n",
      "6  0.010125    0.000953    0.714286     0.998623\n",
      "7  0.011307    0.001006    0.714286     0.999311\n",
      "8  0.010790    0.002074    0.677019     0.999311\n",
      "9  0.012548    0.000978    0.708075     0.998623\n"
     ]
    },
    {
     "data": {
      "text/plain": [
       "Ellipsis"
      ]
     },
     "execution_count": 25,
     "metadata": {},
     "output_type": "execute_result"
    }
   ],
   "source": [
    "print(scores_df)\n",
    "\n",
    "..."
   ]
  },
  {
   "cell_type": "code",
   "execution_count": 26,
   "metadata": {
    "tags": []
   },
   "outputs": [
    {
     "name": "stdout",
     "output_type": "stream",
     "text": [
      "0.6820105820105821\n"
     ]
    },
    {
     "data": {
      "text/plain": [
       "Ellipsis"
      ]
     },
     "execution_count": 26,
     "metadata": {},
     "output_type": "execute_result"
    }
   ],
   "source": [
    "print(scores_df[\"test_score\"].mean())\n",
    "\n",
    "..."
   ]
  },
  {
   "cell_type": "markdown",
   "metadata": {},
   "source": [
    "<!-- END QUESTION -->\n",
    "\n",
    "<br><br>"
   ]
  },
  {
   "cell_type": "markdown",
   "metadata": {},
   "source": [
    "<br><br><br><br>"
   ]
  },
  {
   "cell_type": "markdown",
   "metadata": {
    "nbgrader": {
     "grade": false,
     "grade_id": "cell-4150979c1845a18c",
     "locked": true,
     "schema_version": 3,
     "solution": false,
     "task": false
    }
   },
   "source": [
    "## Exercise 3: Hyperparameters \n",
    "\n",
    "In this exercise, you'll experiment with the `max_depth` hyperparameter of the decision tree classifier. See the [`DecisionTreeClassifier` documentation](https://scikit-learn.org/stable/modules/generated/sklearn.tree.DecisionTreeClassifier.html) for more details."
   ]
  },
  {
   "cell_type": "markdown",
   "metadata": {},
   "source": [
    "### 3.1\n",
    "rubric={autograde:10}\n",
    "\n",
    "\n",
    "**Your tasks:**\n",
    "\n",
    "1. Explore the `max_depth` hyperparameter. Run 10-fold cross-validation for trees with different values of `max_depth` given below. \n",
    "2. For each `max_depth`, get both the mean train accuracy and the mean cross-validation accuracy.\n",
    "3. Make a plot with `max_depth` on the *x*-axis and the train and cross-validation scores on the *y*-axis. That is, your plot should have two curves, one for train and one for cross-validation. Include a legend to specify which is which. Store the plot in a variable called `max_depth_plot` for autograding. \n",
    "\n",
    "\n",
    "> Note: generally speaking (for all assignments) you are welcome to copy/paste code directly from the lecture notes, though I ask that you add a small citation (e.g. \"Adapted from lecture 2\") if you do so."
   ]
  },
  {
   "cell_type": "code",
   "execution_count": 27,
   "metadata": {},
   "outputs": [
    {
     "data": {
      "text/plain": [
       "array([ 1,  3,  5,  7,  9, 11, 13, 15, 17, 19, 21, 23])"
      ]
     },
     "execution_count": 27,
     "metadata": {},
     "output_type": "execute_result"
    }
   ],
   "source": [
    "depths = np.arange(1, 25, 2)\n",
    "depths"
   ]
  },
  {
   "cell_type": "markdown",
   "metadata": {},
   "source": [
    "<div class=\"alert alert-warning\">\n",
    "\n",
    "Solution_3.1\n",
    "    \n",
    "</div>"
   ]
  },
  {
   "cell_type": "code",
   "execution_count": 28,
   "metadata": {
    "nbgrader": {
     "grade": true,
     "grade_id": "cell-333a326eff884930",
     "locked": false,
     "points": 0,
     "schema_version": 3,
     "solution": true,
     "task": false
    },
    "scrolled": false,
    "tags": []
   },
   "outputs": [
    {
     "data": {
      "text/plain": [
       "Ellipsis"
      ]
     },
     "execution_count": 28,
     "metadata": {},
     "output_type": "execute_result"
    },
    {
     "data": {
      "image/png": "[encoded data removed]",
      "text/plain": [
       "<Figure size 640x480 with 1 Axes>"
      ]
     },
     "metadata": {},
     "output_type": "display_data"
    }
   ],
   "source": [
    "\n",
    "\n",
    "# Taken from week 3 notes of overfitting\n",
    "\n",
    "results_dict = {\n",
    "    \"depth\": [],\n",
    "    \"mean_train_score\": [],\n",
    "    \"mean_cv_score\": []\n",
    "}\n",
    "\n",
    "for depth in depths:\n",
    "    model = DecisionTreeClassifier(max_depth=depth)\n",
    "    cv_scores = cross_validate(model, X_train, y_train, cv=10, return_train_score=True)\n",
    "    results_dict[\"depth\"].append(depth)\n",
    "    results_dict[\"mean_train_score\"].append(np.mean(cv_scores[\"train_score\"]))\n",
    "    results_dict[\"mean_cv_score\"].append(np.mean(cv_scores[\"test_score\"]))\n",
    "    \n",
    "    \n",
    "results_df = pd.DataFrame(results_dict)\n",
    "results_df = results_df.set_index(\"depth\")\n",
    "\n",
    "# max_depth_plot: the figure plotted for this exercise\n",
    "max_depth_plot = results_df[[\"mean_train_score\", \"mean_cv_score\"]].plot()\n",
    "\n",
    "..."
   ]
  },
  {
   "cell_type": "code",
   "execution_count": 29,
   "metadata": {
    "deletable": false,
    "editable": false,
    "scrolled": false
   },
   "outputs": [
    {
     "data": {
      "text/html": [
       "<p><strong><pre style='display: inline;'>q3.1</pre></strong> passed!</p>"
      ],
      "text/plain": [
       "q3.1 results: All test cases passed!"
      ]
     },
     "execution_count": 29,
     "metadata": {},
     "output_type": "execute_result"
    }
   ],
   "source": [
    "grader.check(\"q3.1\")"
   ]
  },
  {
   "cell_type": "markdown",
   "metadata": {},
   "source": [
    "<br><br>"
   ]
  },
  {
   "cell_type": "markdown",
   "metadata": {},
   "source": [
    "<!-- BEGIN QUESTION -->\n",
    "\n",
    "### 3.2 `max_depth` and the fundamental tradeoff\n",
    "rubric={reasoning:2}\n",
    "\n",
    "**Your tasks:**\n",
    "\n",
    "Discuss how changing the `max_depth` hyperparameter affects the training and cross-validation accuracy."
   ]
  },
  {
   "cell_type": "markdown",
   "metadata": {},
   "source": [
    "<div class=\"alert alert-warning\">\n",
    "\n",
    "Solution_3.2\n",
    "    \n",
    "</div>"
   ]
  },
  {
   "cell_type": "markdown",
   "metadata": {},
   "source": [
    "_The max depth hyperparameter increases the training score, however, the cross-validation accuracy does not increase with a trend. The likely explaination would be that increasing depth overfits the model, thus giving it a high training accuracy._"
   ]
  },
  {
   "cell_type": "markdown",
   "metadata": {},
   "source": [
    "<!-- END QUESTION -->\n",
    "\n",
    "<br><br>"
   ]
  },
  {
   "cell_type": "markdown",
   "metadata": {},
   "source": [
    "### 3.3 Picking a reasonable value for `max_depth`\n",
    "rubric={autograde:2}\n",
    "\n",
    "**Your tasks:**\n",
    "\n",
    "From these results, what value for max_depth would you pick as the optimal value? Store it in the variable called `best_max_depth` below. "
   ]
  },
  {
   "cell_type": "markdown",
   "metadata": {},
   "source": [
    "<div class=\"alert alert-warning\">\n",
    "\n",
    "Solution_3.3\n",
    "    \n",
    "</div>"
   ]
  },
  {
   "cell_type": "code",
   "execution_count": 30,
   "metadata": {
    "tags": []
   },
   "outputs": [
    {
     "name": "stdout",
     "output_type": "stream",
     "text": [
      "The maximum validation score is 0.717 at max_depth = 7 \n"
     ]
    },
    {
     "data": {
      "text/plain": [
       "Ellipsis"
      ]
     },
     "execution_count": 30,
     "metadata": {},
     "output_type": "execute_result"
    }
   ],
   "source": [
    "# Taken from week 3 notes, but changed for max score\n",
    "\n",
    "best_max_depth = results_df.index.values[np.argmax(results_df[\"mean_cv_score\"])]\n",
    "print(\n",
    "    \"The maximum validation score is %0.3f at max_depth = %d \"\n",
    "    % (\n",
    "        np.max(results_df[\"mean_cv_score\"]),\n",
    "        best_max_depth,\n",
    "    )\n",
    ")\n",
    "\n",
    "..."
   ]
  },
  {
   "cell_type": "code",
   "execution_count": 31,
   "metadata": {
    "deletable": false,
    "editable": false
   },
   "outputs": [
    {
     "data": {
      "text/html": [
       "<p><strong><pre style='display: inline;'>q3.3</pre></strong> passed!</p>"
      ],
      "text/plain": [
       "q3.3 results: All test cases passed!"
      ]
     },
     "execution_count": 31,
     "metadata": {},
     "output_type": "execute_result"
    }
   ],
   "source": [
    "grader.check(\"q3.3\")"
   ]
  },
  {
   "cell_type": "markdown",
   "metadata": {},
   "source": [
    "<br><br>"
   ]
  },
  {
   "cell_type": "markdown",
   "metadata": {},
   "source": [
    "### 3.4 Final assessment on the test set\n",
    "rubric={autograde:3}\n",
    "\n",
    "Let's use the test set now (`X_test`, `y_test`) to examine if our cross-validation score from the previous exercise is trustworthy. \n",
    "\n",
    "**Your tasks:**\n",
    "1. Train a decision tree classifier using the optimal `max_depth` you chose in the previous exercise on the entire training set (`X_train`, `y_train`)\n",
    "2. Compute the score on the test set (`X_test`, `y_test`) and store it in a variable called `test_score`. "
   ]
  },
  {
   "cell_type": "markdown",
   "metadata": {},
   "source": [
    "<div class=\"alert alert-warning\">\n",
    "\n",
    "Solution_3.4\n",
    "    \n",
    "</div>"
   ]
  },
  {
   "cell_type": "code",
   "execution_count": 32,
   "metadata": {
    "tags": []
   },
   "outputs": [
    {
     "name": "stdout",
     "output_type": "stream",
     "text": [
      "0.6856435643564357\n"
     ]
    },
    {
     "data": {
      "text/plain": [
       "Ellipsis"
      ]
     },
     "execution_count": 32,
     "metadata": {},
     "output_type": "execute_result"
    }
   ],
   "source": [
    "test_model = DecisionTreeClassifier(max_depth=best_max_depth)\n",
    "test_model.fit(X_train, y_train)\n",
    "test_score = test_model.score(X_test, y_test)\n",
    "\n",
    "print(test_score)\n",
    "\n",
    "..."
   ]
  },
  {
   "cell_type": "code",
   "execution_count": 33,
   "metadata": {
    "deletable": false,
    "editable": false
   },
   "outputs": [
    {
     "data": {
      "text/html": [
       "<p><strong><pre style='display: inline;'>q3.4</pre></strong> passed!</p>"
      ],
      "text/plain": [
       "q3.4 results: All test cases passed!"
      ]
     },
     "execution_count": 33,
     "metadata": {},
     "output_type": "execute_result"
    }
   ],
   "source": [
    "grader.check(\"q3.4\")"
   ]
  },
  {
   "cell_type": "markdown",
   "metadata": {},
   "source": [
    "<br><br>"
   ]
  },
  {
   "cell_type": "markdown",
   "metadata": {},
   "source": [
    "<!-- BEGIN QUESTION -->\n",
    "\n",
    "### 3.5 Analysis\n",
    "rubric={points:5}\n",
    "\n",
    "**Your tasks:**\n",
    "\n",
    "1. How do the test scores compare to the cross-validation scores? Briefly discuss.\n",
    "2. Why can't you simply pick the value of `max_depth` that gives the best accuracy on the training data? (Answer in maximum 2 to 3 sentences.)\n",
    "3. Do you think that the max_depth you chose would generalize to other \"spotify\" datasets (i.e., data on other spotify users)?"
   ]
  },
  {
   "cell_type": "markdown",
   "metadata": {},
   "source": [
    "<div class=\"alert alert-warning\">\n",
    "\n",
    "Solution_3.5\n",
    "    \n",
    "</div>"
   ]
  },
  {
   "cell_type": "markdown",
   "metadata": {},
   "source": [
    "_S-test - S-validation = 0.686 - 0.715 = -0.029_\n",
    "\n",
    "_1. The test score only differs from the cross-validatio scores by only 3%. This is good as it would mean that the model is well trained._\n",
    "\n",
    "_2. By picking the value that gives the best train score, it would be prone to overfitting. This is as, as the depth increase, the training data tends to increase since it will be too specific to the rules of the training data set. Therefore, the value that gives the best train score would be infinity, which does not make sense_\n",
    "\n",
    "_3. No, each dataset is unique and ifferent and different rules and decision trees may apply to it. This user may have simple 7 depth decisions, while other users may only require 1, such as in the case that they only support a single artist._"
   ]
  },
  {
   "cell_type": "markdown",
   "metadata": {},
   "source": [
    "<!-- END QUESTION -->\n",
    "\n",
    "<br><br><br><br>"
   ]
  },
  {
   "cell_type": "markdown",
   "metadata": {},
   "source": [
    "<!-- BEGIN QUESTION -->\n",
    "\n",
    "## Exercise 4: Conceptual questions\n",
    "rubric={points:3}\n",
    "\n",
    "Consider the dataset below, which has $6$ examples and $2$ features:\n",
    "\n",
    "$$X = \\begin{bmatrix}5 & 2\\\\4 & 3\\\\  2 & 2\\\\ 10 & 10\\\\ 9 & -1\\\\ 9& 9\\end{bmatrix}, \\quad y = \\begin{bmatrix}-1\\\\-1\\\\+1\\\\+1\\\\+1\\\\+1\\end{bmatrix}.$$\n",
    "\n",
    "1. Say we fit a decision stump (depth 1 decision tree) and the first split is on the first feature (left column) being less than 5.5. What would we predict in the \"true\" and \"false\" cases here?\n",
    "2. What training accuracy would the above stump get on this data set?\n",
    "3. Can we obtain 100% accuracy with a single decision stump in this particular example?"
   ]
  },
  {
   "cell_type": "markdown",
   "metadata": {},
   "source": [
    "<div class=\"alert alert-warning\">\n",
    "\n",
    "Solution_4\n",
    "    \n",
    "</div>"
   ]
  },
  {
   "cell_type": "markdown",
   "metadata": {},
   "source": [
    "_1. The first 3 cases would be True, and the last 3 cases would be False._\n",
    "\n",
    "_2. Assuming +1 indicates True, and -1 indicates False, the training accuracy would return a 1/6 or 16.7%._\n",
    "\n",
    "_3. No, since there is no clear split between the +1 and -1 data, it is not possible to obtain in 1 split. The issue lies with the 3rd data of (2, 2)._"
   ]
  },
  {
   "cell_type": "markdown",
   "metadata": {},
   "source": [
    "<!-- END QUESTION -->\n",
    "\n",
    "<br><br><br><br>"
   ]
  },
  {
   "cell_type": "markdown",
   "metadata": {},
   "source": [
    "## Submission instructions \n",
    "\n",
    "**PLEASE READ:** When you are ready to submit your assignment do the following:\n",
    "\n",
    "1. Run all cells in your notebook to make sure there are no errors by doing `Kernel -> Restart Kernel and Clear All Outputs` and then `Run -> Run All Cells`. \n",
    "2. Notebooks with cell execution numbers out of order or not starting from “1” will have marks deducted. Notebooks without the output displayed may not be graded at all (because we need to see the output in order to grade your work).\n",
    "3. Upload the assignment using Gradescope's drag and drop tool. Make sure to access Gradescope via [Canvas](https://canvas.ubc.ca/courses/101888). Check out this [Gradescope Student Guide](https://lthub.ubc.ca/guides/gradescope-student-guide/) if you need help with Gradescope submission. \n",
    "4. Make sure that the plots and output are rendered properly in your submitted file. If the .ipynb file is too big and doesn't render on Gradescope, also upload a pdf or html in addition to the .ipynb so that the TAs can view your submission on Gradescope."
   ]
  },
  {
   "cell_type": "markdown",
   "metadata": {},
   "source": [
    "Congratulations on working with your first machine learning model! Well done 👏👏!\n",
    "\n",
    "![](img/eva-well-done.png)"
   ]
  }
 ],
 "metadata": {
  "anaconda-cloud": {},
  "celltoolbar": "Create Assignment",
  "kernelspec": {
   "display_name": "cpsc330",
   "language": "python",
   "name": "cpsc330"
  },
  "language_info": {
   "codemirror_mode": {
    "name": "ipython",
    "version": 3
   },
   "file_extension": ".py",
   "mimetype": "text/x-python",
   "name": "python",
   "nbconvert_exporter": "python",
   "pygments_lexer": "ipython3",
   "version": "3.10.6"
  },
  "otter": {
   "OK_FORMAT": true,
   "tests": {
    "q1.1": {
     "name": "q1.1",
     "points": 2,
     "suites": [
      {
       "cases": [
        {
         "code": ">>> assert isinstance(spotify_df, pd.DataFrame), \"The DataFrame is not loaded correctly\"\n>>> assert spotify_df.shape == (2017, 16), \"The DataFrame has the wrong shape\"\n>>> assert spotify_df.index.dtype == \"int64\", \"Your index dtype is incorrect\"\n>>> assert np.isclose(spotify_df.valence.sum(), 1002.0759), \"The DataFrame is not loaded correctly\"\n",
         "hidden": false,
         "locked": false
        }
       ],
       "scored": true,
       "setup": "",
       "teardown": "",
       "type": "doctest"
      }
     ]
    },
    "q1.2": {
     "name": "q1.2",
     "points": 2,
     "suites": [
      {
       "cases": [
        {
         "code": ">>> assert n_train_samples == 1613, \"Please provide the correct numeric values\"\n>>> assert n_test_samples == 404, \"Please provide the correct numeric values\"\n",
         "hidden": false,
         "locked": false
        }
       ],
       "scored": true,
       "setup": "",
       "teardown": "",
       "type": "doctest"
      }
     ]
    },
    "q1.3": {
     "name": "q1.3",
     "points": [
      1,
      2
     ],
     "suites": [
      {
       "cases": [
        {
         "code": ">>> assert isinstance(spotify_summary, pd.DataFrame), \"spotify_summary is incorrect\"\n>>> assert spotify_summary.shape == (8, 14), \"spotify_summary is incorrect\"\n>>> assert np.isclose(round(spotify_summary.iloc[2][\"energy\"], 3), 0.207), \"spotify_summary is incorrect\"\n>>> assert [round(x, 2) for x in sorted(list(spotify_summary[\"mode\"]))] == [0.00, 0.00, 0.49, 0.62, 1.00, 1.00, 1.00, 1613.00,], \"spotify_summary is incorrect\"\n",
         "hidden": false,
         "locked": false
        },
        {
         "code": ">>> assert (sha1(str(\"speechiness\".lower()).encode(\"utf8\")).hexdigest() == \"1262c095e16fc4e725252b8c38f39a0ca5d1b849\"), \"Please use the exact column/feature name\"\n",
         "hidden": false,
         "locked": false
        }
       ],
       "scored": true,
       "setup": "",
       "teardown": "",
       "type": "doctest"
      }
     ]
    },
    "q2.1": {
     "name": "q2.1",
     "points": 2,
     "suites": [
      {
       "cases": [
        {
         "code": ">>> assert isinstance(X_train, pd.DataFrame), \"X_train is not created correctly\"\n>>> assert isinstance(y_train, pd.Series), \"y_train is not created correctly\"\n>>> assert isinstance(X_test, pd.DataFrame), \"X_test is not created correctly\"\n>>> assert isinstance(y_test, pd.Series), \"y_test is not created correctly\"\n>>> assert X_train.shape == (1613, 13), \"X_train has the wrong shape\"\n>>> assert X_test.shape == (404, 13), \"X_test has the wrong shape\"\n",
         "hidden": false,
         "locked": false
        }
       ],
       "scored": true,
       "setup": "",
       "teardown": "",
       "type": "doctest"
      }
     ]
    },
    "q2.2": {
     "name": "q2.2",
     "points": 2,
     "suites": [
      {
       "cases": [
        {
         "code": ">>> assert isinstance(spotify_tree, DecisionTreeClassifier), \"DecisionTreeClassifier was not created properly\"\n>>> assert (spotify_tree.get_params().get(\"random_state\") == 123), \"Please set the random state to 123\"\n>>> assert spotify_tree.get_depth() in range(16, 20, 1), \"DecisionTreeClassifier was not fitted properly\"\n>>> assert spotify_tree.get_n_leaves() in range(260, 270, 1), \"DecisionTreeClassifier was not fitted properly\"\n",
         "hidden": false,
         "locked": false
        }
       ],
       "scored": true,
       "setup": "",
       "teardown": "",
       "type": "doctest"
      }
     ]
    },
    "q2.3": {
     "name": "q2.3",
     "points": 2,
     "suites": [
      {
       "cases": [
        {
         "code": ">>> assert (pred == 1), \"The prediction is incorrect and does not match the corresponding class in y_train\"\n",
         "hidden": false,
         "locked": false
        }
       ],
       "scored": true,
       "setup": "",
       "teardown": "",
       "type": "doctest"
      }
     ]
    },
    "q2.4": {
     "name": "q2.4",
     "points": 2,
     "suites": [
      {
       "cases": [
        {
         "code": ">>> assert np.isclose(round(mean_cv_score, 3), 0.682), \"mean_cv_score is not computed correctly\"\n",
         "hidden": false,
         "locked": false
        }
       ],
       "scored": true,
       "setup": "",
       "teardown": "",
       "type": "doctest"
      }
     ]
    },
    "q2.5": {
     "name": "q2.5",
     "points": [
      1,
      1,
      1
     ],
     "suites": [
      {
       "cases": [
        {
         "code": ">>> assert isinstance(scores_df, pd.DataFrame), \"scores_df should be a DataFrame\"\n>>> assert len(scores_df) == 10, \"Please check parameters of `cross_validate`\"\n",
         "hidden": false,
         "locked": false
        },
        {
         "code": ">>> assert \"test_score\" in scores_df.columns, \"Your test scores are incorrect\"\n>>> assert np.isclose(round(scores_df[\"test_score\"].mean(), 3), 0.682), \"Your test scores are incorrect\"\n",
         "hidden": false,
         "locked": false
        },
        {
         "code": ">>> assert \"train_score\" in scores_df.columns, \"Your train scores are incorrect\"\n>>> assert np.isclose(round(scores_df[\"train_score\"].mean(), 3), 0.999), \"Your train scores are incorrect\"\n",
         "hidden": false,
         "locked": false
        }
       ],
       "scored": true,
       "setup": "",
       "teardown": "",
       "type": "doctest"
      }
     ]
    },
    "q3.1": {
     "name": "q3.1",
     "points": [
      1,
      1,
      2,
      6
     ],
     "suites": [
      {
       "cases": [
        {
         "code": ">>> assert not max_depth_plot is None, \"Please use the provided variable\"\n>>> assert (len(max_depth_plot.lines) == 2), \"Please plot both the train accuracy and the cross-validation accuracy\"\n",
         "hidden": false,
         "locked": false
        },
        {
         "code": ">>> # Check if the expected max_depths are on the x-axis\n>>> assert \"depth\" in max_depth_plot.get_xlabel(), \"Please give x-axis a reasonable name\"\n>>> assert (max_depth_plot.lines[0].get_xdata() == np.arange(1, 25, 2)).all(), \"Please use the provided max_depth values\"\n>>> assert len(max_depth_plot.lines[1].get_xdata()) == len(np.arange(1, 25, 2)), \"Please use the provided max_depth values\"\n",
         "hidden": false,
         "locked": false
        },
        {
         "code": ">>> # Check if the curves are labeled with reasonable names\n>>> assert any(label in max_depth_plot.legend().get_texts()[0].get_text() for label in [\"train\", \"test\", \"cv\"]), \"Please label your curves with reasonable names\"\n>>> assert any(label in max_depth_plot.legend().get_texts()[1].get_text() for label in [\"train\", \"test\", \"cv\"]), \"Please label your curves with reasonable names\"\n",
         "hidden": false,
         "locked": false
        },
        {
         "code": ">>> # Get train and test data points\n>>> legend_texts = max_depth_plot.legend().get_texts()\n>>> if \"train\" in legend_texts[0].get_text():\n...     train_xydata = max_depth_plot.lines[0].get_xydata()\n...     test_xydata = max_depth_plot.lines[1].get_xydata()\n... else:\n...     train_xydata = max_depth_plot.lines[1].get_xydata()\n...     test_xydata = max_depth_plot.lines[0].get_xydata()\n>>> \n>>> # Training scores should increase when max_depth increases\n>>> assert np.isclose(round(train_xydata[2][1], 3), 0.793, atol=0.02), \"The training data points are incorrect\"\n>>> assert (train_xydata[6][1] >= train_xydata[2][1]), \"The training data points are incorrect\"\n>>> assert (train_xydata[10][1] >= train_xydata[6][1]), \"The training data points are incorrect\"\n>>> \n>>> # Test scores\n>>> assert np.isclose(round(test_xydata[2][1], 3), 0.71, atol=0.02), \"The training data points are incorrect\"\n>>> assert np.isclose(round(test_xydata[6][1], 3), 0.689, atol=0.02), \"The training data points are incorrect\"\n>>> assert np.isclose(round(test_xydata[10][1], 3), 0.686, atol=0.02), \"The training data points are incorrect\"\n",
         "hidden": false,
         "locked": false
        }
       ],
       "scored": true,
       "setup": "",
       "teardown": "",
       "type": "doctest"
      }
     ]
    },
    "q3.3": {
     "name": "q3.3",
     "points": 2,
     "suites": [
      {
       "cases": [
        {
         "code": ">>> assert not best_max_depth is None, \"Please use the provided variable\"\n",
         "hidden": false,
         "locked": false
        },
        {
         "code": ">>> # Get the test curve\n>>> legend_texts = max_depth_plot.legend().get_texts()\n>>> if \"train\" in legend_texts[0].get_text():\n...     test_curve = max_depth_plot.lines[1]\n... else:\n...     test_curve = max_depth_plot.lines[0]\n>>> \n>>> assert best_max_depth == test_curve.get_xdata()[np.argmax(test_curve.get_ydata())]\n",
         "hidden": false,
         "locked": false
        }
       ],
       "scored": true,
       "setup": "",
       "teardown": "",
       "type": "doctest"
      }
     ]
    },
    "q3.4": {
     "name": "q3.4",
     "points": 3,
     "suites": [
      {
       "cases": [
        {
         "code": ">>> assert not test_score is None, \"Please use the provided variable\"\n>>> model_sol = DecisionTreeClassifier(max_depth=best_max_depth).fit(X_train, y_train)\n>>> test_score_sol = model_sol.score(X_test, y_test)\n>>> assert np.isclose(test_score, test_score_sol, atol=0.02)\n",
         "hidden": false,
         "locked": false
        }
       ],
       "scored": true,
       "setup": "",
       "teardown": "",
       "type": "doctest"
      }
     ]
    }
   }
  }
 },
 "nbformat": 4,
 "nbformat_minor": 4
}
